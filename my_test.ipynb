{
 "cells": [
  {
   "cell_type": "code",
   "execution_count": 7,
   "metadata": {},
   "outputs": [
    {
     "name": "stdout",
     "output_type": "stream",
     "text": [
      "Choice(finish_reason='stop', index=0, logprobs=None, message=ChatCompletionMessage(content='positive  \\nnegative  \\nneutral  ', refusal=None, role='assistant', annotations=[], audio=None, function_call=None, tool_calls=None))\n",
      "positive  \n",
      "negative  \n",
      "neutral  \n"
     ]
    }
   ],
   "source": [
    "from openai import OpenAI\n",
    "\n",
    "client = OpenAI()\n",
    "text = \"\"\" I love Data Science.\n",
    "I hate magic.\n",
    "Are you sick?\n",
    "\"\"\"\n",
    "\n",
    "system_prompt = \"\"\"\n",
    "    You are an expert in interpreting human sentiment across cultures.\n",
    "    \"\"\"\n",
    "# send this input to the completions endpoint along with a developer message to fine-tune responses\n",
    "prompt = f\"\"\"\n",
    "    For each line of text in the string below, please categorize the review\n",
    "    as either positive, neutral, negative, or irrelevant.\n",
    "\n",
    "    Use only a one-word response per line. Do not include any numbers.{text}\"\"\"\n",
    "\n",
    "completion = client.chat.completions.create(\n",
    "    model=\"gpt-4o-mini\",\n",
    "    messages=[\n",
    "\t    { \"role\": \"developer\",  \"content\": system_prompt },\n",
    "        { \"role\": \"user\",  \"content\": prompt }\n",
    "    ]\n",
    ")\n",
    "print(completion.choices[0])\n",
    "print(completion.choices[0].message.content)"
   ]
  },
  {
   "cell_type": "code",
   "execution_count": 39,
   "metadata": {},
   "outputs": [],
   "source": [
    "from openai import OpenAI\n",
    "client = OpenAI()\n",
    "\n",
    "def get_sentiment(text: list) -> list:\n",
    "    new_list = []\n",
    "    if not text:\n",
    "        return \"Wrong input. text must be an array of strings.\"\n",
    "    \n",
    "    system_prompt = \"\"\"\n",
    "    You are an expert in interpreting human sentiment across cultures.\n",
    "    \"\"\" \n",
    "    prompt = f\"\"\"\n",
    "    For each line of text in the string below, please categorize the review\n",
    "    as either positive, neutral, negative, or irrelevant.\n",
    "\n",
    "    Use only a one-word response per line. Do not include any numbers.{text}\"\"\"\n",
    "    completion = client.chat.completions.create(\n",
    "    model=\"gpt-4o-mini\",\n",
    "    messages=[\n",
    "\t    { \"role\": \"developer\",  \"content\": system_prompt },\n",
    "        { \"role\": \"user\",  \"content\": prompt }\n",
    "    ]\n",
    "    )\n",
    "    return([(completion.choices[0].message.content).strip()])\n",
    "    \n",
    "\n",
    "    "
   ]
  },
  {
   "cell_type": "code",
   "execution_count": 37,
   "metadata": {},
   "outputs": [
    {
     "data": {
      "text/plain": [
       "['positive  \\nnegative  \\nneutral']"
      ]
     },
     "execution_count": 37,
     "metadata": {},
     "output_type": "execute_result"
    }
   ],
   "source": [
    "text = \"\"\" I love Data Science.\n",
    "I hate magic.\n",
    "Are you sick?\n",
    "\"\"\"\n",
    "get_sentiment(text)"
   ]
  },
  {
   "cell_type": "code",
   "execution_count": 38,
   "metadata": {},
   "outputs": [
    {
     "name": "stdout",
     "output_type": "stream",
     "text": [
      "['positive  \\nnegative  \\nneutral']\n"
     ]
    }
   ],
   "source": [
    "text= [\"I love Data Science.\",\n",
    "       \"I hate magic.\",\n",
    "       \"Are you sick?\"]\n",
    "print(get_sentiment(text))"
   ]
  }
 ],
 "metadata": {
  "kernelspec": {
   "display_name": "ds",
   "language": "python",
   "name": "python3"
  },
  "language_info": {
   "codemirror_mode": {
    "name": "ipython",
    "version": 3
   },
   "file_extension": ".py",
   "mimetype": "text/x-python",
   "name": "python",
   "nbconvert_exporter": "python",
   "pygments_lexer": "ipython3",
   "version": "3.12.9"
  }
 },
 "nbformat": 4,
 "nbformat_minor": 2
}
